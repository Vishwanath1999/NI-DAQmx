{
 "cells": [
  {
   "cell_type": "code",
   "execution_count": null,
   "metadata": {},
   "outputs": [],
   "source": [
    "import numpy as np\n",
    "import nidaqmx"
   ]
  },
  {
   "cell_type": "code",
   "execution_count": null,
   "metadata": {},
   "outputs": [],
   "source": [
    "# Define the input and output channels\n",
    "input_channel = \"PXI1Slot2/ai0\"\n",
    "output_channels = [\"PXI1Slot3/ao0\", \"PXI1Slot3/ao2\", \"PXI1Slot3/ao4\", \"PXI1Slot3/ao6\"]\n",
    "\n",
    "# Define the SPGD parameters\n",
    "scale = 0.4\n",
    "output_scale=1\n",
    "lr = 0.1\n",
    "beta1 = 0.9\n",
    "beta2 = 0.999\n",
    "epsilon = 1e-8"
   ]
  },
  {
   "cell_type": "code",
   "execution_count": null,
   "metadata": {},
   "outputs": [],
   "source": [
    "def check_range(v,scale):\n",
    "    idx = np.where(np.abs(v) + scale > 9.5)\n",
    "    if idx[0].size > 0:\n",
    "        v[idx[0]] = 5\n",
    "    return v"
   ]
  },
  {
   "cell_type": "code",
   "execution_count": null,
   "metadata": {},
   "outputs": [],
   "source": [
    "# %%\n",
    "\n",
    "# %%\n",
    "with nidaqmx.Task() as input_task, nidaqmx.Task() as output_task:\n",
    "    \n",
    "    # Configure the input task\n",
    "    input_task.ai_channels.add_ai_voltage_chan(input_channel)\n",
    "\n",
    "    # Configure the output task\n",
    "    output_task.ao_channels.add_ao_voltage_chan(\",\".join(output_channels))\n",
    "    V = 2*np.ones(4)\n",
    "\n",
    "    # Initialize the Adam parameters\n",
    "    m = np.zeros_like(V)\n",
    "    v = np.zeros_like(V)\n",
    "    t = 1\n",
    "\n",
    "    for idx in range(40):\n",
    "\n",
    "        delta_v = np.random.rand(4)\n",
    "\n",
    "        V = check_range(V,scale)\n",
    "\n",
    "        # print('reading..')\n",
    "        output_task.write(V,auto_start=True)\n",
    "        output_task.wait_until_done()\n",
    "        input_signal_v = output_scale*input_task.read()\n",
    "\n",
    "        # print('positive perturbation')\n",
    "        pos_v =V+delta_v\n",
    "        output_task.write(pos_v,auto_start=True)\n",
    "        output_task.wait_until_done()\n",
    "        input_signal_plus = output_scale*input_task.read()\n",
    "\n",
    "        # print('negative perturbation')\n",
    "        neg_v = V-delta_v\n",
    "        output_task.write(neg_v,auto_start=True)\n",
    "        output_task.wait_until_done()\n",
    "        input_signal_minus = output_scale*input_task.read()\n",
    "\n",
    "        gradient = (input_signal_plus - input_signal_minus) * delta_v\n",
    "\n",
    "        # Update the Adam parameters\n",
    "        t += 1\n",
    "        m = beta1*m + (1-beta1)*gradient\n",
    "        v = beta2*v + (1-beta2)*(gradient**2)\n",
    "        m_hat = m / (1-beta1**t)\n",
    "        v_hat = v / (1-beta2**t)\n",
    "        # Update the voltage\n",
    "        V += lr*m_hat / (np.sqrt(v_hat) + epsilon)\n",
    "        # if t%100 == 0:\n",
    "        print('grad:',gradient.mean(), 'v_out:',V)"
   ]
  }
 ],
 "metadata": {
  "kernelspec": {
   "display_name": "daq",
   "language": "python",
   "name": "python3"
  },
  "language_info": {
   "codemirror_mode": {
    "name": "ipython",
    "version": 3
   },
   "file_extension": ".py",
   "mimetype": "text/x-python",
   "name": "python",
   "nbconvert_exporter": "python",
   "pygments_lexer": "ipython3",
   "version": "3.10.5"
  },
  "orig_nbformat": 4
 },
 "nbformat": 4,
 "nbformat_minor": 2
}
