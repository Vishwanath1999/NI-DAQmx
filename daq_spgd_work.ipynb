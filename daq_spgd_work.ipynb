{
 "cells": [
  {
   "cell_type": "code",
   "execution_count": 1,
   "metadata": {},
   "outputs": [],
   "source": [
    "import numpy as np\n",
    "import nidaqmx\n",
    "from tqdm import tqdm"
   ]
  },
  {
   "cell_type": "code",
   "execution_count": 2,
   "metadata": {},
   "outputs": [],
   "source": [
    "# Define the input and output channels\n",
    "input_channel = \"PXI1Slot2/ai0\"\n",
    "# output_channels = [\"PXI1Slot3/ao0\", \"PXI1Slot3/ao2\", \"PXI1Slot3/ao4\", \"PXI1Slot3/ao6\"]\n",
    "output_channels = [\"PXI1Slot3/ao{_i}\".format(_i=i) for i in range(4)]\n",
    "\n",
    "# Define the SPGD parameters\n",
    "learning_rate = 5\n",
    "scale = 0.4\n",
    "output_scale=1\n",
    "n_channels = len(output_channels)"
   ]
  },
  {
   "cell_type": "code",
   "execution_count": 3,
   "metadata": {},
   "outputs": [],
   "source": [
    "def check_range(v,scale):\n",
    "    idx = np.where(np.abs(v) + scale > 9.5)\n",
    "    if idx[0].size > 0:\n",
    "        v[idx[0]] = 5\n",
    "    return v"
   ]
  },
  {
   "cell_type": "code",
   "execution_count": 5,
   "metadata": {},
   "outputs": [
    {
     "name": "stderr",
     "output_type": "stream",
     "text": [
      "100%|████████████████████████████████████████████████████████████████████████████| 10000/10000 [00:14<00:00, 671.47it/s]\n"
     ]
    }
   ],
   "source": [
    "with nidaqmx.Task() as input_task, nidaqmx.Task() as output_task:\n",
    "    \n",
    "    # Configure the input task\n",
    "    input_task.ai_channels.add_ai_voltage_chan(input_channel)\n",
    "\n",
    "    # Configure the output task\n",
    "    output_task.ao_channels.add_ao_voltage_chan(\",\".join(output_channels))\n",
    "    v = 2*np.random.normal(0.2,size=(n_channels,))#2*np.ones(4)\n",
    "\n",
    "    for _ in tqdm(range(10000),ncols=120):\n",
    "    # while True:\n",
    "        delta_v = scale*np.random.rand(n_channels)\n",
    "\n",
    "        v = check_range(v,scale)\n",
    "\n",
    "        # print('reading..')\n",
    "        output_task.write(v,auto_start=True)\n",
    "        # output_task.wait_until_done()\n",
    "        input_signal_v = output_scale*input_task.read()\n",
    "\n",
    "        # print('positive perturbation')\n",
    "        pos_v =v+delta_v#check_range(v+delta_v)\n",
    "        output_task.write(pos_v,auto_start=True)\n",
    "        # output_task.wait_until_done()\n",
    "        input_signal_plus = output_scale*input_task.read()\n",
    "\n",
    "        # print('negative perturbation')\n",
    "        neg_v = v-delta_v#check_range(v-delta_v)\n",
    "        output_task.write(neg_v,auto_start=True)\n",
    "        # output_task.wait_until_done()\n",
    "        input_signal_minus = output_scale*input_task.read()\n",
    "\n",
    "        gradient = (input_signal_plus - input_signal_minus) * delta_v\n",
    "\n",
    "        v += learning_rate*gradient\n",
    "        # print('grad:',gradient.mean(), 'v:',v)\n"
   ]
  },
  {
   "cell_type": "code",
   "execution_count": 6,
   "metadata": {},
   "outputs": [],
   "source": [
    "# with nidaqmx.Task() as input_task, nidaqmx.Task() as output_task:\n",
    "    \n",
    "#     # Configure the input task\n",
    "#     input_task.ai_channels.add_ai_voltage_chan(input_channel)\n",
    "\n",
    "#     # Configure the output task\n",
    "#     output_task.ao_channels.add_ao_voltage_chan(\",\".join(output_channels))\n",
    "#     v = 9.7*np.ones(4)\n",
    "\n",
    "#     # for _ in tqdm(range(100),ncols=120):\n",
    "#     while True:\n",
    "#         delta_v = 1*np.random.rand(4)\n",
    "\n",
    "#         v = check_range(v)\n",
    "\n",
    "#         # print('reading..')\n",
    "#         output_task.write(v,auto_start=True)\n",
    "#         output_task.wait_until_done()\n",
    "#         input_signal_v = input_task.read()\n",
    "\n",
    "#         # print('positive perturbation')\n",
    "#         pos_v =check_range(v+delta_v)\n",
    "#         output_task.write(pos_v,auto_start=True)\n",
    "#         output_task.wait_until_done()\n",
    "#         input_signal_plus = input_task.read()\n",
    "\n",
    "#         # print('negative perturbation')\n",
    "#         neg_v = check_range(v-delta_v)\n",
    "#         output_task.write(neg_v,auto_start=True)\n",
    "#         output_task.wait_until_done()\n",
    "#         input_signal_minus = 10*input_task.read()\n",
    "\n",
    "#         gradient = (input_signal_plus - input_signal_minus) * delta_v\n",
    "\n",
    "#         v += learning_rate*gradient\n",
    "#         print('grad:',gradient, 'v:',v)\n"
   ]
  },
  {
   "cell_type": "code",
   "execution_count": null,
   "metadata": {},
   "outputs": [],
   "source": []
  }
 ],
 "metadata": {
  "kernelspec": {
   "display_name": "daq",
   "language": "python",
   "name": "python3"
  },
  "language_info": {
   "codemirror_mode": {
    "name": "ipython",
    "version": 3
   },
   "file_extension": ".py",
   "mimetype": "text/x-python",
   "name": "python",
   "nbconvert_exporter": "python",
   "pygments_lexer": "ipython3",
   "version": "3.10.5"
  },
  "orig_nbformat": 4
 },
 "nbformat": 4,
 "nbformat_minor": 2
}
