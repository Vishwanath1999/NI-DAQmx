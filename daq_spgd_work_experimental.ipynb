{
 "cells": [
  {
   "cell_type": "code",
   "execution_count": null,
   "metadata": {},
   "outputs": [],
   "source": [
    "import numpy as np\n",
    "import nidaqmx\n",
    "from tqdm import tqdm\n",
    "import torch as T\n",
    "from mbpo_elite import SAC_Agent"
   ]
  },
  {
   "cell_type": "code",
   "execution_count": null,
   "metadata": {},
   "outputs": [],
   "source": [
    "config = {'alpha':3e-4,'beta':3e-4,'tau':5e-3,'model_lr':1e-3,'input_dims':(100,2),'env_id':'nested_loop_'+str(0.5).replace(\".\", \"_\"),'n_actions':3,'ac_batch_size':256,\\\n",
    "          'model_batch_size':512, 'n_models':10,'rollout_len':1,'fake_ratio':0.6,'gamma':0.99,'model_weight_decay':1e-4,'layer1_size':256,'layer2_size':256,\\\n",
    "          'use_model':False,'use_bn':True,'n_elites':8,'n_games':6000,'model_train_freq':250,'num_grad_updates':500,'n_ac_steps':20,'random_steps':500,'act_dist':'normal',\\\n",
    "          'noise_scale':0.25,'eps_len':1000,'act_dist':'beta'}\n",
    "\n",
    "agent = SAC_Agent(alpha=config['alpha'],beta=config['beta'],tau=config['tau'],input_dims=config['input_dims'],env_id=config['env_id'],\\\n",
    "                  n_actions=config['n_actions'],ac_batch_size=config['ac_batch_size'],model_batch_size=config['model_batch_size'],n_models=config['n_models'],\\\n",
    "                  n_elites=config['n_elites'],rollout_len=config['rollout_len'],layer1_size=config['layer1_size'],layer2_size=config['layer2_size'],weight_decay=config['model_weight_decay'],\\\n",
    "                  no_bad_state=True,use_model=config['use_model'],use_bn=config['use_bn'],model_lr=config['model_lr'],act_dist=config['act_dist'])"
   ]
  },
  {
   "cell_type": "code",
   "execution_count": null,
   "metadata": {},
   "outputs": [],
   "source": [
    "# Define the input and output channels\n",
    "n_channels = 3\n",
    "input_channels = [\"PXI1Slot2/ai{_i}\".format(_i=i) for i in range(n_channels)]\n",
    "output_channels = [\"PXI1Slot3/ao{_i}\".format(_i=i) for i in range(n_channels)]"
   ]
  },
  {
   "cell_type": "code",
   "execution_count": null,
   "metadata": {},
   "outputs": [],
   "source": [
    "def check_range(v,scale):\n",
    "    idx = np.where(np.abs(v) + scale > 9.5)\n",
    "    if idx[0].size > 0:\n",
    "        v[idx[0]] = 5\n",
    "    return v"
   ]
  },
  {
   "cell_type": "code",
   "execution_count": null,
   "metadata": {},
   "outputs": [],
   "source": [
    "with nidaqmx.Task(new_task_name='input_task') as input_task, nidaqmx.Task(new_task_name='output_task') as output_task:\n",
    "    log={}\n",
    "    # Configure the input task\n",
    "    input_task.ai_channels.add_ai_voltage_chan(\",\".join(input_channels))\n",
    "\n",
    "    # Configure the output task\n",
    "    output_task.ao_channels.add_ao_voltage_chan(\",\".join(output_channels))\n",
    "    state = np.array([])\n",
    "    state_ = np.array([])\n",
    "    \n",
    "    for _ in tqdm(range(1000),ncols=120):\n",
    "        if len(state)<100:\n",
    "            input_data = np.array(input_task.read())\n",
    "            if len(state) == 0:\n",
    "                state = input_data[0:2].reshape(1,2)\n",
    "            else:\n",
    "                state = np.append(state, input_data[0:2].reshape(1,2),axis=0)\n",
    "            print(state.shape)\n",
    "        else:\n",
    "            input_data = np.array(input_task.read())\n",
    "            state = np.append(state[1:], input_data[0:2].reshape(1,2),axis=0)\n",
    "            action = agent.choose_action(state.reshape(1,*state.shape))\n",
    "            output_task.write(action,auto_start=True)\n",
    "            input_data = np.array(input_task.read())\n",
    "            state_ = np.append(state[1:], input_data[0:2].reshape(1,2),axis=0)\n",
    "            reward = input_data[-1]\n",
    "            agent.remember(state,action,reward,state_,True)\n",
    "            if agent.real_mem_ready():\n",
    "                log['actor loss'],log['critic loss'],log['entropy loss'],log['entropy coeff'] = agent.train_ac()"
   ]
  },
  {
   "cell_type": "code",
   "execution_count": null,
   "metadata": {},
   "outputs": [],
   "source": [
    "# with nidaqmx.Task() as input_task, nidaqmx.Task() as output_task:\n",
    "    \n",
    "#     # Configure the input task\n",
    "#     input_task.ai_channels.add_ai_voltage_chan(input_channel)\n",
    "\n",
    "#     # Configure the output task\n",
    "#     output_task.ao_channels.add_ao_voltage_chan(\",\".join(output_channels))\n",
    "#     v = 9.7*np.ones(4)\n",
    "\n",
    "#     # for _ in tqdm(range(100),ncols=120):\n",
    "#     while True:\n",
    "#         delta_v = 1*np.random.rand(4)\n",
    "\n",
    "#         v = check_range(v)\n",
    "\n",
    "#         # print('reading..')\n",
    "#         output_task.write(v,auto_start=True)\n",
    "#         output_task.wait_until_done()\n",
    "#         input_signal_v = input_task.read()\n",
    "\n",
    "#         # print('positive perturbation')\n",
    "#         pos_v =check_range(v+delta_v)\n",
    "#         output_task.write(pos_v,auto_start=True)\n",
    "#         output_task.wait_until_done()\n",
    "#         input_signal_plus = input_task.read()\n",
    "\n",
    "#         # print('negative perturbation')\n",
    "#         neg_v = check_range(v-delta_v)\n",
    "#         output_task.write(neg_v,auto_start=True)\n",
    "#         output_task.wait_until_done()\n",
    "#         input_signal_minus = 10*input_task.read()\n",
    "\n",
    "#         gradient = (input_signal_plus - input_signal_minus) * delta_v\n",
    "\n",
    "#         v += learning_rate*gradient\n",
    "#         print('grad:',gradient, 'v:',v)\n"
   ]
  },
  {
   "cell_type": "code",
   "execution_count": null,
   "metadata": {},
   "outputs": [],
   "source": []
  }
 ],
 "metadata": {
  "kernelspec": {
   "display_name": "daq",
   "language": "python",
   "name": "python3"
  },
  "language_info": {
   "codemirror_mode": {
    "name": "ipython",
    "version": 3
   },
   "file_extension": ".py",
   "mimetype": "text/x-python",
   "name": "python",
   "nbconvert_exporter": "python",
   "pygments_lexer": "ipython3",
   "version": "3.10.5"
  },
  "orig_nbformat": 4
 },
 "nbformat": 4,
 "nbformat_minor": 2
}
